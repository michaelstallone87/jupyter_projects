{
 "cells": [
  {
   "cell_type": "markdown",
   "metadata": {},
   "source": [
    "# Relatório Semanal de Consumo de Papelão nas Embalagens de Cadeiras"
   ]
  },
  {
   "cell_type": "code",
   "execution_count": 1,
   "metadata": {
    "jupyter": {
     "source_hidden": true
    }
   },
   "outputs": [],
   "source": [
    "import pandas as pd\n",
    "import numpy as np\n",
    "import matplotlib.pyplot as plt\n",
    "import seaborn as sns\n",
    "import matplotlib.image as mpimg\n",
    "import xlsxwriter\n",
    "\n",
    "from datetime import date, time, datetime\n",
    "from pandas_ods_reader import read_ods\n",
    "from pandas import Grouper\n",
    "from pandas import ExcelWriter\n",
    "\n",
    "# palette -> Accent, Accent_r, Blues, Blues_r, BrBG, BrBG_r, BuGn, BuGn_r, BuPu, BuPu_r, CMRmap, CMRmap_r, Dark2, Dark2_r, GnBu, GnBu_r, Greens, Greens_r, Greys, Greys_r, OrRd, OrRd_r, Oranges, Oranges_r, PRGn, PRGn_r, Paired, Paired_r, Pastel1, Pastel1_r, Pastel2, Pastel2_r, PiYG, PiYG_r, PuBu, PuBuGn, PuBuGn_r, PuBu_r, PuOr, PuOr_r, PuRd, PuRd_r, Purples, Purples_r, RdBu, RdBu_r, RdGy, RdGy_r, RdPu, RdPu_r, RdYlBu, RdYlBu_r, RdYlGn, RdYlGn_r, Reds, Reds_r, Set1, Set1_r, Set2, Set2_r, Set3, Set3_r, Spectral, Spectral_r, Wistia, Wistia_r, YlGn, YlGnBu, YlGnBu_r, YlGn_r, YlOrBr, YlOrBr_r, YlOrRd, YlOrRd_r, afmhot, afmhot_r, autumn, autumn_r, binary, binary_r, bone, bone_r, brg, brg_r, bwr, bwr_r, cividis, cividis_r, cool, cool_r, coolwarm, coolwarm_r, copper, copper_r, cubehelix, cubehelix_r, flag, flag_r, gist_earth, gist_earth_r, gist_gray, gist_gray_r, gist_heat, gist_heat_r, gist_ncar, gist_ncar_r, gist_rainbow, gist_rainbow_r, gist_stern, gist_stern_r, gist_yarg, gist_yarg_r, gnuplot, gnuplot2, gnuplot2_r, gnuplot_r, gray, gray_r, hot, hot_r, hsv, hsv_r, icefire, icefire_r, inferno, inferno_r, jet, jet_r, magma, magma_r, mako, mako_r, nipy_spectral, nipy_spectral_r, ocean, ocean_r, pink, pink_r, plasma, plasma_r, prism, prism_r, rainbow, rainbow_r, rocket, rocket_r, seismic, seismic_r, spring, spring_r, summer, summer_r, tab10, tab10_r, tab20, tab20_r, tab20b, tab20b_r, tab20c, tab20c_r, terrain, terrain_r, viridis, viridis_r, vlag, vlag_r, winter, winter_r\n",
    "sns.set_palette(\"inferno\")\n",
    "\n",
    "# style -> white, dark, whitegrid, darkgrid, ticks\n",
    "sns.set_style(\"darkgrid\")"
   ]
  },
  {
   "cell_type": "code",
   "execution_count": 2,
   "metadata": {
    "jupyter": {
     "source_hidden": true
    }
   },
   "outputs": [
    {
     "name": "stdout",
     "output_type": "stream",
     "text": [
      "* Desconsiderando os pedidos faturados com quantidade 0.\n"
     ]
    }
   ],
   "source": [
    "#Dados - Ocorrências\n",
    "ocorrencias = read_ods(\"5W2H - Controle de Ocorrências.ods\", sheet='ocorrencias')\n",
    "ocorrencias['Faturado em'] = pd.to_datetime(ocorrencias['Faturado em'], format='%Y/%m/%d')\n",
    "ocorrencias.set_index(ocorrencias['Faturado em'],inplace=True)\n",
    "#ocorrencias = ocorrencias[ocorrencias['Nome do Cliente'] != 'MUNICIPIO DE SALVADOR']\n",
    "#ocorrencias.dropna(inplace=True)\n",
    "\n",
    "ocorrencias_caixas = ocorrencias[(ocorrencias['Análise'] == 'Chamado #29362')]\n",
    "\n",
    "#Dados - Apontamento\n",
    "exp_logix = pd.read_excel('Apontamento.xlsx', sheet_name='exp_logix')\n",
    "exp_logix = exp_logix[exp_logix['Quantidade de peças atendidas'] != 0]\n",
    "print('* Desconsiderando os pedidos faturados com quantidade 0.')\n",
    "\n",
    "exp_logix['Data último faturamento'] = pd.to_datetime(exp_logix['Data último faturamento'], format='%Y/%m/%d')\n",
    "exp_logix.set_index(exp_logix['Data último faturamento'],inplace=True)\n",
    "\n",
    "filter2 = (exp_logix['Linha produto'] == 1) | (exp_logix['Linha produto'] == 2) | (exp_logix['Denominação'].str.contains('CAD'))| (exp_logix['Denominação'].str.contains('POLT'))\n",
    "exp_logix_estofados = exp_logix[filter2]\n",
    "\n",
    "#apon = pd.read_excel('Apontamento.xlsx', sheet_name='apon')\n",
    "#apon['Data Apont'] = pd.to_datetime(apon['Data Apont'], format='%Y/%m/%d')\n",
    "#apon.set_index(apon['Data Apont'],inplace=True)\n",
    "\n",
    "#filter3 = apon['Data Apont'] == 'E'\n",
    "#apontamento_estofados = apon[filter3]"
   ]
  },
  {
   "cell_type": "code",
   "execution_count": 3,
   "metadata": {
    "jupyter": {
     "source_hidden": true
    }
   },
   "outputs": [
    {
     "name": "stdout",
     "output_type": "stream",
     "text": [
      "Hoje é 27/07/2020.\n",
      "O período avaliado compreende de 07/05/2020 até 24/07/2020.\n"
     ]
    }
   ],
   "source": [
    "hoje = date.today().strftime('%d/%m/%Y')\n",
    "menor_data = ocorrencias_caixas['Faturado em'].min().strftime('%d/%m/%Y')\n",
    "maior_data = ocorrencias_caixas['Faturado em'].max().strftime('%d/%m/%Y')\n",
    "\n",
    "print(f'Hoje é {hoje}.\\nO período avaliado compreende de {menor_data} até {maior_data}.')"
   ]
  },
  {
   "cell_type": "code",
   "execution_count": 4,
   "metadata": {
    "jupyter": {
     "source_hidden": true
    }
   },
   "outputs": [],
   "source": [
    "#Agrupando Ocorrências\n",
    "somatorio_ocorrencias_caixas = pd.DataFrame(ocorrencias_caixas.groupby([Grouper(key='Faturado em',freq='D'), 'Pedido','Item', 'G1', 'G2', 'G3', 'G4', 'G5'])['Qtde. NC'].max())\n",
    "somatorio_ocorrencias_caixas.reset_index(inplace=True)\n",
    "somatorio_ocorrencias_caixas = pd.DataFrame(somatorio_ocorrencias_caixas.groupby([Grouper(key='Faturado em',freq='W-SAT')])['Qtde. NC'].sum())\n",
    "somatorio_ocorrencias_caixas.index.rename('Semana', inplace=True)\n",
    "\n",
    "#Agrupando Apontamentos\n",
    "fat_exp_logix_estofados = pd.DataFrame(exp_logix_estofados.groupby(Grouper(key='Data último faturamento', freq='W-SAT'))['Quantidade de peças atendidas'].sum())\n",
    "\n",
    "#Agrupando Ocorrências + Apontamentos\n",
    "somatorio_ocorrencias_caixas['Total de Cadeiras Faturadas'] = fat_exp_logix_estofados['Quantidade de peças atendidas']\n",
    "somatorio_ocorrencias_caixas['Total de Cadeiras no Plástico'] = (fat_exp_logix_estofados['Quantidade de peças atendidas']-somatorio_ocorrencias_caixas['Qtde. NC'])\n",
    "somatorio_ocorrencias_caixas['% do Total de Cadeiras Faturadas com Plástico'] = (somatorio_ocorrencias_caixas['Total de Cadeiras no Plástico']/somatorio_ocorrencias_caixas['Total de Cadeiras Faturadas'])*100\n",
    "somatorio_ocorrencias_caixas['% Acumulado (Cadeiras sem Caixas)'] = (somatorio_ocorrencias_caixas['Total de Cadeiras no Plástico'].cumsum()/somatorio_ocorrencias_caixas['Total de Cadeiras Faturadas'].cumsum())*100"
   ]
  },
  {
   "cell_type": "code",
   "execution_count": 5,
   "metadata": {
    "jupyter": {
     "source_hidden": true
    }
   },
   "outputs": [
    {
     "name": "stdout",
     "output_type": "stream",
     "text": [
      "SOMATÓRIO DE OCORRÊNCIAS REGISTRADAS POR SEMANA\n"
     ]
    },
    {
     "data": {
      "text/html": [
       "<div>\n",
       "<style scoped>\n",
       "    .dataframe tbody tr th:only-of-type {\n",
       "        vertical-align: middle;\n",
       "    }\n",
       "\n",
       "    .dataframe tbody tr th {\n",
       "        vertical-align: top;\n",
       "    }\n",
       "\n",
       "    .dataframe thead th {\n",
       "        text-align: right;\n",
       "    }\n",
       "</style>\n",
       "<table border=\"1\" class=\"dataframe\">\n",
       "  <thead>\n",
       "    <tr style=\"text-align: right;\">\n",
       "      <th></th>\n",
       "      <th>Semana</th>\n",
       "      <th>Total de Cadeiras com Caixa</th>\n",
       "      <th>Total de Cadeiras Faturadas</th>\n",
       "      <th>Total de Cadeiras no Plástico</th>\n",
       "      <th>% do Total de Cadeiras Faturadas com Plástico</th>\n",
       "      <th>% Acumulado (Cadeiras sem Caixas)</th>\n",
       "    </tr>\n",
       "  </thead>\n",
       "  <tbody>\n",
       "    <tr>\n",
       "      <th>0</th>\n",
       "      <td>2020-05-04/2020-05-10</td>\n",
       "      <td>10.0</td>\n",
       "      <td>333</td>\n",
       "      <td>323.0</td>\n",
       "      <td>97.00</td>\n",
       "      <td>97.00</td>\n",
       "    </tr>\n",
       "    <tr>\n",
       "      <th>1</th>\n",
       "      <td>2020-05-11/2020-05-17</td>\n",
       "      <td>368.0</td>\n",
       "      <td>558</td>\n",
       "      <td>190.0</td>\n",
       "      <td>34.05</td>\n",
       "      <td>57.58</td>\n",
       "    </tr>\n",
       "    <tr>\n",
       "      <th>2</th>\n",
       "      <td>2020-05-18/2020-05-24</td>\n",
       "      <td>127.0</td>\n",
       "      <td>401</td>\n",
       "      <td>274.0</td>\n",
       "      <td>68.33</td>\n",
       "      <td>60.91</td>\n",
       "    </tr>\n",
       "    <tr>\n",
       "      <th>3</th>\n",
       "      <td>2020-05-25/2020-05-31</td>\n",
       "      <td>875.0</td>\n",
       "      <td>2543</td>\n",
       "      <td>1668.0</td>\n",
       "      <td>65.59</td>\n",
       "      <td>64.02</td>\n",
       "    </tr>\n",
       "    <tr>\n",
       "      <th>4</th>\n",
       "      <td>2020-06-01/2020-06-07</td>\n",
       "      <td>51.0</td>\n",
       "      <td>152</td>\n",
       "      <td>101.0</td>\n",
       "      <td>66.45</td>\n",
       "      <td>64.11</td>\n",
       "    </tr>\n",
       "    <tr>\n",
       "      <th>5</th>\n",
       "      <td>2020-06-08/2020-06-14</td>\n",
       "      <td>121.0</td>\n",
       "      <td>226</td>\n",
       "      <td>105.0</td>\n",
       "      <td>46.46</td>\n",
       "      <td>63.16</td>\n",
       "    </tr>\n",
       "    <tr>\n",
       "      <th>6</th>\n",
       "      <td>2020-06-15/2020-06-21</td>\n",
       "      <td>417.0</td>\n",
       "      <td>1052</td>\n",
       "      <td>635.0</td>\n",
       "      <td>60.36</td>\n",
       "      <td>62.60</td>\n",
       "    </tr>\n",
       "    <tr>\n",
       "      <th>7</th>\n",
       "      <td>2020-06-22/2020-06-28</td>\n",
       "      <td>129.0</td>\n",
       "      <td>371</td>\n",
       "      <td>242.0</td>\n",
       "      <td>65.23</td>\n",
       "      <td>62.78</td>\n",
       "    </tr>\n",
       "    <tr>\n",
       "      <th>8</th>\n",
       "      <td>2020-06-29/2020-07-05</td>\n",
       "      <td>389.0</td>\n",
       "      <td>544</td>\n",
       "      <td>155.0</td>\n",
       "      <td>28.49</td>\n",
       "      <td>59.76</td>\n",
       "    </tr>\n",
       "    <tr>\n",
       "      <th>9</th>\n",
       "      <td>2020-07-06/2020-07-12</td>\n",
       "      <td>89.0</td>\n",
       "      <td>185</td>\n",
       "      <td>96.0</td>\n",
       "      <td>51.89</td>\n",
       "      <td>59.53</td>\n",
       "    </tr>\n",
       "    <tr>\n",
       "      <th>10</th>\n",
       "      <td>2020-07-13/2020-07-19</td>\n",
       "      <td>2333.0</td>\n",
       "      <td>8113</td>\n",
       "      <td>5780.0</td>\n",
       "      <td>71.24</td>\n",
       "      <td>66.09</td>\n",
       "    </tr>\n",
       "    <tr>\n",
       "      <th>11</th>\n",
       "      <td>2020-07-20/2020-07-26</td>\n",
       "      <td>268.0</td>\n",
       "      <td>797</td>\n",
       "      <td>529.0</td>\n",
       "      <td>66.37</td>\n",
       "      <td>66.11</td>\n",
       "    </tr>\n",
       "  </tbody>\n",
       "</table>\n",
       "</div>"
      ],
      "text/plain": [
       "                   Semana  Total de Cadeiras com Caixa  \\\n",
       "0   2020-05-04/2020-05-10                         10.0   \n",
       "1   2020-05-11/2020-05-17                        368.0   \n",
       "2   2020-05-18/2020-05-24                        127.0   \n",
       "3   2020-05-25/2020-05-31                        875.0   \n",
       "4   2020-06-01/2020-06-07                         51.0   \n",
       "5   2020-06-08/2020-06-14                        121.0   \n",
       "6   2020-06-15/2020-06-21                        417.0   \n",
       "7   2020-06-22/2020-06-28                        129.0   \n",
       "8   2020-06-29/2020-07-05                        389.0   \n",
       "9   2020-07-06/2020-07-12                         89.0   \n",
       "10  2020-07-13/2020-07-19                       2333.0   \n",
       "11  2020-07-20/2020-07-26                        268.0   \n",
       "\n",
       "    Total de Cadeiras Faturadas  Total de Cadeiras no Plástico  \\\n",
       "0                           333                          323.0   \n",
       "1                           558                          190.0   \n",
       "2                           401                          274.0   \n",
       "3                          2543                         1668.0   \n",
       "4                           152                          101.0   \n",
       "5                           226                          105.0   \n",
       "6                          1052                          635.0   \n",
       "7                           371                          242.0   \n",
       "8                           544                          155.0   \n",
       "9                           185                           96.0   \n",
       "10                         8113                         5780.0   \n",
       "11                          797                          529.0   \n",
       "\n",
       "    % do Total de Cadeiras Faturadas com Plástico  \\\n",
       "0                                           97.00   \n",
       "1                                           34.05   \n",
       "2                                           68.33   \n",
       "3                                           65.59   \n",
       "4                                           66.45   \n",
       "5                                           46.46   \n",
       "6                                           60.36   \n",
       "7                                           65.23   \n",
       "8                                           28.49   \n",
       "9                                           51.89   \n",
       "10                                          71.24   \n",
       "11                                          66.37   \n",
       "\n",
       "    % Acumulado (Cadeiras sem Caixas)  \n",
       "0                               97.00  \n",
       "1                               57.58  \n",
       "2                               60.91  \n",
       "3                               64.02  \n",
       "4                               64.11  \n",
       "5                               63.16  \n",
       "6                               62.60  \n",
       "7                               62.78  \n",
       "8                               59.76  \n",
       "9                               59.53  \n",
       "10                              66.09  \n",
       "11                              66.11  "
      ]
     },
     "execution_count": 5,
     "metadata": {},
     "output_type": "execute_result"
    }
   ],
   "source": [
    "print('SOMATÓRIO DE OCORRÊNCIAS REGISTRADAS POR SEMANA')\n",
    "somatorio_ocorrencias_caixas.fillna(0).round(2).to_period('W').reset_index().rename(columns={'Qtde. NC':'Total de Cadeiras com Caixa'})"
   ]
  },
  {
   "cell_type": "code",
   "execution_count": 6,
   "metadata": {
    "jupyter": {
     "source_hidden": true
    }
   },
   "outputs": [
    {
     "data": {
      "image/png": "[encoded data removed]",
      "text/plain": [
       "<Figure size 1440x360 with 1 Axes>"
      ]
     },
     "metadata": {},
     "output_type": "display_data"
    },
    {
     "name": "stdout",
     "output_type": "stream",
     "text": [
      "* DESCONSIDERANDO A PRIMEIRA SEMANA\n"
     ]
    }
   ],
   "source": [
    "fig, ax = plt.subplots(figsize=(20, 5))\n",
    "\n",
    "ax.set_title('Percentual Acumulado de Uso de Papelão nas Embalagens de Cadeiras', fontsize=16)\n",
    "ax.set_ylabel('Percentual (%)', fontsize=14)\n",
    "ax.set_xlabel('Semana', fontsize=14)\n",
    "ax = somatorio_ocorrencias_caixas['% Acumulado (Cadeiras sem Caixas)'].tail(somatorio_ocorrencias_caixas.shape[0]-1).plot(linestyle='-.',color='green', legend=True)\n",
    "plt.savefig('Papelão.png')\n",
    "plt.show(ax)\n",
    "print('* DESCONSIDERANDO A PRIMEIRA SEMANA')"
   ]
  },
  {
   "cell_type": "code",
   "execution_count": 7,
   "metadata": {},
   "outputs": [],
   "source": [
    "#Exportando para 'consumo_papelao.xlsx':\n",
    "\n",
    "with ExcelWriter('G:\\PUBLICO\\consumo_papelao.xlsx') as writer:\n",
    "    ocorrencias_caixas.to_excel(writer, index=False, sheet_name='ocorrencias_caixas')"
   ]
  },
  {
   "cell_type": "code",
   "execution_count": null,
   "metadata": {},
   "outputs": [],
   "source": []
  },
  {
   "cell_type": "code",
   "execution_count": null,
   "metadata": {},
   "outputs": [],
   "source": []
  }
 ],
 "metadata": {
  "kernelspec": {
   "display_name": "Python 3",
   "language": "python",
   "name": "python3"
  },
  "language_info": {
   "codemirror_mode": {
    "name": "ipython",
    "version": 3
   },
   "file_extension": ".py",
   "mimetype": "text/x-python",
   "name": "python",
   "nbconvert_exporter": "python",
   "pygments_lexer": "ipython3",
   "version": "3.8.1"
  }
 },
 "nbformat": 4,
 "nbformat_minor": 4
}
